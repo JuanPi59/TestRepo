{
 "cells": [
  {
   "cell_type": "markdown",
   "id": "1b7c3b5f-2a8b-4e6b-9b9a-6ae22bcd1d28",
   "metadata": {},
   "source": [
    "# Data Science Tools and Ecosystem"
   ]
  },
  {
   "cell_type": "markdown",
   "id": "035cdcac-a820-4676-9079-59bcafd7f201",
   "metadata": {},
   "source": [
    "In this notebook, Data Science Tools and Ecosystem are summarized."
   ]
  },
  {
   "cell_type": "markdown",
   "id": "520d1518-f44e-488e-9404-79730d4f2bf6",
   "metadata": {},
   "source": [
    "**Objectives:**\n",
    "* List popular languages for Data Science\n",
    "* List popular libraries for Data Science\n",
    "* List popular Data Science Tools\n",
    "* Make a few examples of evaluating arithmetic expressions in python\n",
    "* Make ordered and unorderer lists using markdown"
   ]
  },
  {
   "cell_type": "markdown",
   "id": "cdb84e52-95ad-4e46-9839-72e22d5bacb9",
   "metadata": {},
   "source": [
    "Some of the popular languages that Data Scientists use are:\n",
    "1. Python\n",
    "2. R\n",
    "3. SQL"
   ]
  },
  {
   "cell_type": "markdown",
   "id": "379703ed-cb86-425f-a18e-d6b75a5fd5d3",
   "metadata": {},
   "source": [
    "Some of the commonly used libraries used by Data Scientists include:\n",
    "1. pandas\n",
    "2. matplotlib\n",
    "3. scikit-learn"
   ]
  },
  {
   "cell_type": "markdown",
   "id": "ed53ebaf-c8c3-4cdd-9173-cdbd8b9b645a",
   "metadata": {},
   "source": [
    "| Data Science Tools |\n",
    "|--------------------|\n",
    "| Jupyter Notebook   |\n",
    "| VS Code            |\n",
    "| RStudio            |"
   ]
  },
  {
   "cell_type": "markdown",
   "id": "409a5bd6-1b97-490e-91bf-b4b6a35c197b",
   "metadata": {},
   "source": [
    "### Below are a few examples of evaluating arithmetic expressions in Python\n"
   ]
  },
  {
   "cell_type": "code",
   "execution_count": 10,
   "id": "d0771494-0d63-4020-8bef-fae6d356f1e5",
   "metadata": {},
   "outputs": [
    {
     "data": {
      "text/plain": [
       "17"
      ]
     },
     "execution_count": 10,
     "metadata": {},
     "output_type": "execute_result"
    }
   ],
   "source": [
    "#This a simple arithmetic expression to mutiply then add integers\n",
    "(3*4)+5"
   ]
  },
  {
   "cell_type": "code",
   "execution_count": 14,
   "id": "74d99253-8dcc-4ec1-bcbf-d8f2f95cc2d8",
   "metadata": {},
   "outputs": [
    {
     "data": {
      "text/plain": [
       "3.3333333333333335"
      ]
     },
     "execution_count": 14,
     "metadata": {},
     "output_type": "execute_result"
    }
   ],
   "source": [
    "#This will convert 200 minutes to hours by diving by\n",
    "200/60"
   ]
  },
  {
   "cell_type": "markdown",
   "id": "50f87f7c-a306-4b9c-8312-ea116a32a190",
   "metadata": {},
   "source": [
    "## Author\n",
    "Juan Pablo Guzmán"
   ]
  },
  {
   "cell_type": "code",
   "execution_count": null,
   "id": "d0130758-f788-4d77-b1ff-2745a2b1e41f",
   "metadata": {},
   "outputs": [],
   "source": []
  }
 ],
 "metadata": {
  "kernelspec": {
   "display_name": "Python [conda env:base] *",
   "language": "python",
   "name": "conda-base-py"
  },
  "language_info": {
   "codemirror_mode": {
    "name": "ipython",
    "version": 3
   },
   "file_extension": ".py",
   "mimetype": "text/x-python",
   "name": "python",
   "nbconvert_exporter": "python",
   "pygments_lexer": "ipython3",
   "version": "3.10.16"
  }
 },
 "nbformat": 4,
 "nbformat_minor": 5
}
